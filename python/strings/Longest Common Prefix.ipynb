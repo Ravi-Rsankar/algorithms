{
 "cells": [
  {
   "cell_type": "markdown",
   "metadata": {},
   "source": [
    "Write a function to find the longest common prefix string amongst an array of strings.\n",
    "\n",
    "If there is no common prefix, return an empty string \"\"."
   ]
  },
  {
   "cell_type": "code",
   "execution_count": 109,
   "metadata": {},
   "outputs": [
    {
     "name": "stdout",
     "output_type": "stream",
     "text": [
      "i: 0\n",
      "c: f\n",
      "len(strs[j]): 4\n",
      "len(strs[j]): 6\n",
      "i: 1\n",
      "c: l\n",
      "len(strs[j]): 4\n",
      "len(strs[j]): 6\n",
      "i: 2\n",
      "c: o\n",
      "len(strs[j]): 4\n",
      "len(strs[j]): 6\n"
     ]
    },
    {
     "data": {
      "text/plain": [
       "'fl'"
      ]
     },
     "execution_count": 109,
     "metadata": {},
     "output_type": "execute_result"
    }
   ],
   "source": [
    "longestCommonPrefix2([\"flower\",\"flow\", 'flight'])"
   ]
  },
  {
   "cell_type": "code",
   "execution_count": 107,
   "metadata": {},
   "outputs": [],
   "source": [
    "def longestCommonPrefix2(strs):\n",
    "    if len(strs) == 0:\n",
    "        return \"\"\n",
    "    for i in range(0, len(strs[0])):\n",
    "        c = strs[0][i]\n",
    "        for j in range(1, len(strs)):\n",
    "            if i==len(strs[j]) or strs[j][i]!=c:\n",
    "#                 print(\"strs[j][i]: \"+strs[j][i])\n",
    "                return strs[0][0:i]\n",
    "    return strs[0]"
   ]
  },
  {
   "cell_type": "code",
   "execution_count": null,
   "metadata": {},
   "outputs": [],
   "source": []
  }
 ],
 "metadata": {
  "kernelspec": {
   "display_name": "Python 3",
   "language": "python",
   "name": "python3"
  },
  "language_info": {
   "codemirror_mode": {
    "name": "ipython",
    "version": 3
   },
   "file_extension": ".py",
   "mimetype": "text/x-python",
   "name": "python",
   "nbconvert_exporter": "python",
   "pygments_lexer": "ipython3",
   "version": "3.7.3"
  }
 },
 "nbformat": 4,
 "nbformat_minor": 2
}
