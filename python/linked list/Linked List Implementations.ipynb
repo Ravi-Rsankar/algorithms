{
 "cells": [
  {
   "cell_type": "code",
   "execution_count": 2,
   "metadata": {},
   "outputs": [],
   "source": [
    "class Node:\n",
    "    def __init__(self, data):\n",
    "        self.data=data\n",
    "        self.next=None"
   ]
  },
  {
   "cell_type": "code",
   "execution_count": 3,
   "metadata": {},
   "outputs": [],
   "source": [
    "def push(head, data):\n",
    "    if not head:\n",
    "        return Node(data)\n",
    "    temp = Node(data)\n",
    "    temp.next = head\n",
    "    head = temp\n",
    "    return head    "
   ]
  },
  {
   "cell_type": "code",
   "execution_count": 10,
   "metadata": {},
   "outputs": [
    {
     "name": "stdout",
     "output_type": "stream",
     "text": [
      "3 1 "
     ]
    }
   ],
   "source": [
    "# if __name__=='__main__':\n",
    "head = None\n",
    "head = push(head, 1)\n",
    "head = push(head, 3)\n",
    "head = push(head, 5)\n",
    "head = push(head, 6)\n",
    "head = push(head, 8)\n",
    "head = push(head, 4)\n",
    "head = removeFirstNode(head) \n",
    "head = removeFirstNode(head) \n",
    "head = removeFirstNode(head) \n",
    "head = removeFirstNode(head) \n",
    "while(head): \n",
    "        print(\"{} \".format(head.data), end =\"\") \n",
    "        head = head.next"
   ]
  },
  {
   "cell_type": "code",
   "execution_count": 4,
   "metadata": {},
   "outputs": [],
   "source": [
    "def removeFirstNode(head): \n",
    "    if not head: \n",
    "        return None\n",
    "    temp = head \n",
    "  \n",
    "    # Move the head pointer to the next node \n",
    "    head = head.next\n",
    "    temp = None\n",
    "    return head "
   ]
  }
 ],
 "metadata": {
  "kernelspec": {
   "display_name": "Python 3",
   "language": "python",
   "name": "python3"
  },
  "language_info": {
   "codemirror_mode": {
    "name": "ipython",
    "version": 3
   },
   "file_extension": ".py",
   "mimetype": "text/x-python",
   "name": "python",
   "nbconvert_exporter": "python",
   "pygments_lexer": "ipython3",
   "version": "3.7.3"
  }
 },
 "nbformat": 4,
 "nbformat_minor": 2
}
