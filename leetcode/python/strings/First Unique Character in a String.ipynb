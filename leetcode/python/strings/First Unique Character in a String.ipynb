{
 "cells": [
  {
   "cell_type": "markdown",
   "metadata": {},
   "source": [
    "Given a string, find the first non-repeating character in it and return its index. If it doesn't exist, return -1."
   ]
  },
  {
   "cell_type": "code",
   "execution_count": 42,
   "metadata": {},
   "outputs": [],
   "source": [
    "def firstUniqChar(s): \n",
    "    m = {}\n",
    "    for i in range(0, len(s)):\n",
    "        if s[i] in m:\n",
    "            m[s[i]]+=1\n",
    "        else:\n",
    "            m[s[i]] =1\n",
    "    key_list = list(m.keys()) \n",
    "    val_list = list(m.values()) \n",
    "\n",
    "    print(m)\n",
    "    if 1 in val_list:\n",
    "        return s.index(key_list[val_list.index(1)])\n",
    "    else:\n",
    "        return -1\n"
   ]
  },
  {
   "cell_type": "code",
   "execution_count": 57,
   "metadata": {},
   "outputs": [
    {
     "name": "stdout",
     "output_type": "stream",
     "text": [
      "Counter({'e': 4, 'l': 2, 'o': 2, 'v': 1, 't': 1, 'c': 1, 'd': 1})\n",
      "[(0, 'l'), (1, 'o'), (2, 'v'), (3, 'e'), (4, 'l'), (5, 'e'), (6, 'e'), (7, 't'), (8, 'c'), (9, 'o'), (10, 'd'), (11, 'e')]\n"
     ]
    },
    {
     "data": {
      "text/plain": [
       "2"
      ]
     },
     "execution_count": 57,
     "metadata": {},
     "output_type": "execute_result"
    }
   ],
   "source": [
    "firstUniqChar2(\"loveleetcode\")"
   ]
  },
  {
   "cell_type": "code",
   "execution_count": 56,
   "metadata": {},
   "outputs": [],
   "source": [
    "from collections import Counter\n",
    "def firstUniqChar2(s):\n",
    "    count = Counter(s)\n",
    "    print(count)\n",
    "    print(list(enumerate(s)))\n",
    "    for idx, ch in enumerate(s):\n",
    "        if count[ch] == 1:\n",
    "            return idx\n",
    "    return -1"
   ]
  }
 ],
 "metadata": {
  "kernelspec": {
   "display_name": "Python 3",
   "language": "python",
   "name": "python3"
  },
  "language_info": {
   "codemirror_mode": {
    "name": "ipython",
    "version": 3
   },
   "file_extension": ".py",
   "mimetype": "text/x-python",
   "name": "python",
   "nbconvert_exporter": "python",
   "pygments_lexer": "ipython3",
   "version": "3.7.3"
  }
 },
 "nbformat": 4,
 "nbformat_minor": 2
}
