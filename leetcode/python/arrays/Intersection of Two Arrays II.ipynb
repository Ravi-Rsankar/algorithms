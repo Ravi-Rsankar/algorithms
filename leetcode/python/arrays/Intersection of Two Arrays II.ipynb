{
 "cells": [
  {
   "cell_type": "markdown",
   "metadata": {},
   "source": [
    "Given two arrays, write a function to compute their intersection."
   ]
  },
  {
   "cell_type": "code",
   "execution_count": 8,
   "metadata": {},
   "outputs": [],
   "source": [
    "def intersect(nums1, nums2):\n",
    "    result = []\n",
    "    if len(nums1) > len(nums2):\n",
    "        nums2, nums1 = nums1, nums2\n",
    "        for i in nums2:\n",
    "            if i in nums1:\n",
    "                result.append(i)\n",
    "                nums1.remove(i)\n",
    "        \n",
    "    return result"
   ]
  },
  {
   "cell_type": "code",
   "execution_count": 17,
   "metadata": {},
   "outputs": [],
   "source": [
    "def intersect2(nums1, nums2):\n",
    "    m = {}\n",
    "    \n",
    "    if len(nums1)>len(nums2):\n",
    "        nums2,nums1 = nums1,nums2\n",
    "    for i in nums2:\n",
    "        if i not in m:\n",
    "            m[i] = 1\n",
    "        else:\n",
    "            m[i]+=1\n",
    "    result = []\n",
    "    for j in nums1:\n",
    "        if j in m and m[j]:\n",
    "            m[j]-= 1\n",
    "            result.append(j)\n",
    "    return result"
   ]
  }
 ],
 "metadata": {
  "kernelspec": {
   "display_name": "Python 3",
   "language": "python",
   "name": "python3"
  },
  "language_info": {
   "codemirror_mode": {
    "name": "ipython",
    "version": 3
   },
   "file_extension": ".py",
   "mimetype": "text/x-python",
   "name": "python",
   "nbconvert_exporter": "python",
   "pygments_lexer": "ipython3",
   "version": "3.7.3"
  }
 },
 "nbformat": 4,
 "nbformat_minor": 2
}
