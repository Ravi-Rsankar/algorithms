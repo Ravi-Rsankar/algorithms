{
 "cells": [
  {
   "cell_type": "code",
   "execution_count": 8,
   "metadata": {},
   "outputs": [],
   "source": [
    "def maximumPower(s):\n",
    "    if s==len(s)*s[0]:\n",
    "        print(\"Same string\")\n",
    "        return 0\n",
    "    elif int(s, 2)% 2 !=0:\n",
    "        print(\"Odd\")\n",
    "        return 0\n",
    "    else:\n",
    "        print(\"else\")\n",
    "        count=0\n",
    "        for i in range(0, len(s)-1):\n",
    "            dec = int(s, 2)\n",
    "            print(dec)\n",
    "            print\n",
    "            if dec % 2**i==0:\n",
    "                if count<i:\n",
    "                    count=i\n",
    "            s=leftrotate(s, len(s) - 1)\n",
    "        print(\"count: \"+str(count))\n",
    "        return count\n",
    "\n",
    "def leftrotate(s, d):\n",
    "    tmp = s[d : ] + s[0 : d]\n",
    "    return tmp"
   ]
  },
  {
   "cell_type": "code",
   "execution_count": 9,
   "metadata": {},
   "outputs": [
    {
     "name": "stdout",
     "output_type": "stream",
     "text": [
      "else\n",
      "6\n",
      "3\n",
      "count: 0\n"
     ]
    },
    {
     "data": {
      "text/plain": [
       "0"
      ]
     },
     "execution_count": 9,
     "metadata": {},
     "output_type": "execute_result"
    }
   ],
   "source": [
    "maximumPower('110')"
   ]
  },
  {
   "cell_type": "code",
   "execution_count": 20,
   "metadata": {},
   "outputs": [
    {
     "data": {
      "text/plain": [
       "1024"
      ]
     },
     "execution_count": 20,
     "metadata": {},
     "output_type": "execute_result"
    }
   ],
   "source": [
    "pow(2,10)"
   ]
  },
  {
   "cell_type": "code",
   "execution_count": null,
   "metadata": {},
   "outputs": [],
   "source": []
  }
 ],
 "metadata": {
  "kernelspec": {
   "display_name": "Python 3",
   "language": "python",
   "name": "python3"
  },
  "language_info": {
   "codemirror_mode": {
    "name": "ipython",
    "version": 3
   },
   "file_extension": ".py",
   "mimetype": "text/x-python",
   "name": "python",
   "nbconvert_exporter": "python",
   "pygments_lexer": "ipython3",
   "version": "3.7.3"
  }
 },
 "nbformat": 4,
 "nbformat_minor": 2
}
