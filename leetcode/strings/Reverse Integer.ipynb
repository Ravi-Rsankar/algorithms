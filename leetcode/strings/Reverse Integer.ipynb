{
 "cells": [
  {
   "cell_type": "markdown",
   "metadata": {},
   "source": [
    "Given a 32-bit signed integer, reverse digits of an integer."
   ]
  },
  {
   "cell_type": "code",
   "execution_count": 11,
   "metadata": {},
   "outputs": [],
   "source": [
    "def reverse(x):\n",
    "    \n",
    "    sign = \"\"\n",
    "    num = x\n",
    "    if x < 0:\n",
    "        num = int(str(x)[1:])\n",
    "        sign = \"-\"\n",
    "    rev_num = 0\n",
    "    while num > 0:\n",
    "        rev_num = rev_num*10 + num%10\n",
    "        num = num//10\n",
    "    if int(sign+str(rev_num)) >= 2**31 or int(sign+str(rev_num)) <= -(2**31) -1:\n",
    "        print(\"value of x \"+str(x))\n",
    "        return 0\n",
    "    return int(sign+str(rev_num))"
   ]
  },
  {
   "cell_type": "code",
   "execution_count": 12,
   "metadata": {},
   "outputs": [
    {
     "name": "stdout",
     "output_type": "stream",
     "text": [
      "value of x 1534236469\n"
     ]
    },
    {
     "data": {
      "text/plain": [
       "0"
      ]
     },
     "execution_count": 12,
     "metadata": {},
     "output_type": "execute_result"
    }
   ],
   "source": [
    "reverse(1534236469)"
   ]
  }
 ],
 "metadata": {
  "kernelspec": {
   "display_name": "Python 3",
   "language": "python",
   "name": "python3"
  },
  "language_info": {
   "codemirror_mode": {
    "name": "ipython",
    "version": 3
   },
   "file_extension": ".py",
   "mimetype": "text/x-python",
   "name": "python",
   "nbconvert_exporter": "python",
   "pygments_lexer": "ipython3",
   "version": "3.7.3"
  }
 },
 "nbformat": 4,
 "nbformat_minor": 2
}
