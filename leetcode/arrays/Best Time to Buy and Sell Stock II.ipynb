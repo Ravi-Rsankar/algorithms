{
 "cells": [
  {
   "cell_type": "markdown",
   "metadata": {},
   "source": [
    "Say you have an array prices for which the ith element is the price of a given stock on day i.\n",
    "\n",
    "Design an algorithm to find the maximum profit. You may complete as many transactions as you like (i.e., buy one and sell one share of the stock multiple times).\n",
    "\n",
    "Note: You may not engage in multiple transactions at the same time (i.e., you must sell the stock before you buy again)."
   ]
  },
  {
   "cell_type": "code",
   "execution_count": 50,
   "metadata": {},
   "outputs": [],
   "source": [
    "def maxProfit(prices):\n",
    "    maxProfit = 0\n",
    "    sortedArr = prices.copy()\n",
    "    if(prices == sorted(sortedArr)):\n",
    "        maxProfit = sortedArr[-1] - sortedArr[0]\n",
    "        return maxProfit\n",
    "    elif(prices == sorted(sortedArr, reverse=True)):\n",
    "        return maxProfit\n",
    "    else:\n",
    "        i=0\n",
    "        for j in range(1,len(prices)):\n",
    "            if(prices[i]>prices[j]):\n",
    "                i+=1\n",
    "            else:\n",
    "                maxProfit +=(prices[j] - prices[i])\n",
    "                i+=1\n",
    "        return maxProfit"
   ]
  }
 ],
 "metadata": {
  "kernelspec": {
   "display_name": "Python 3",
   "language": "python",
   "name": "python3"
  },
  "language_info": {
   "codemirror_mode": {
    "name": "ipython",
    "version": 3
   },
   "file_extension": ".py",
   "mimetype": "text/x-python",
   "name": "python",
   "nbconvert_exporter": "python",
   "pygments_lexer": "ipython3",
   "version": "3.7.3"
  }
 },
 "nbformat": 4,
 "nbformat_minor": 2
}
